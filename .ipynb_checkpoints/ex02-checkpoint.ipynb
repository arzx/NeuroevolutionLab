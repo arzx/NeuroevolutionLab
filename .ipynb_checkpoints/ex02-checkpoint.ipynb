{
 "cells": [
  {
   "cell_type": "markdown",
   "metadata": {},
   "source": [
    "Neuroevolution: Exercise 1 \n",
    "=========\n",
    "###### Artur Ganzha 10019651\n",
    "---------\t\n",
    "###### Raul Gorek 10061333\n",
    "---------\t"
   ]
  },
  {
   "cell_type": "markdown",
   "metadata": {},
   "source": [
    "### Aufgabe 1"
   ]
  },
  {
   "cell_type": "code",
   "execution_count": null,
   "metadata": {},
   "outputs": [],
   "source": [
    "import numpy as np\n",
    "import matplotlib.pyplot as plt\n",
    "import random\n",
    "import time"
   ]
  },
  {
   "cell_type": "code",
   "execution_count": null,
   "metadata": {},
   "outputs": [],
   "source": [
    "class Dice:\n",
    "    def __init__(self, no_init=False):\n",
    "        if no_init:\n",
    "            self.value = 0\n",
    "        else:\n",
    "            self.value = random.randint(1,6)\n",
    "    \n",
    "    def roll(self):\n",
    "        self.value = random.randint(1,6)"
   ]
  },
  {
   "cell_type": "code",
   "execution_count": null,
   "metadata": {},
   "outputs": [],
   "source": [
    "wuerfel_liste = [Dice() for _ in range(100)]\n",
    "\n",
    "t_start = time.perf_counter()\n",
    "while sum([wuerfel.value for wuerfel in wuerfel_liste]) != 600:\n",
    "    for wuerfel in wuerfel_liste:\n",
    "        wuerfel.roll()\n",
    "    if time.perf_counter() - t_start > 180:\n",
    "        break"
   ]
  },
  {
   "cell_type": "code",
   "execution_count": null,
   "metadata": {},
   "outputs": [],
   "source": [
    "class Individual:\n",
    "    def __init__(self, child=False, num=100):\n",
    "        self.num = num\n",
    "        if child:\n",
    "            self.wuerfel_liste = np.zeros(shape=(num,))\n",
    "            self.fitness = 0\n",
    "        else:\n",
    "            self.wuerfel_liste = np.random.randint(1, 7, size=(num,))\n",
    "            self.fitness = np.count_nonzero(self.wuerfel_liste == 6)\n",
    "\n",
    "    def mutate(self, p):\n",
    "        mask = np.random.random(size=(self.num,)) <= p\n",
    "        self.wuerfel_liste = np.multiply(self.wuerfel_liste, np.logical_not(mask))\n",
    "        self.wuerfel_liste = np.add(\n",
    "            np.multiply(np.random.randint(1, 7, size=mask.size), mask),\n",
    "            self.wuerfel_liste,\n",
    "        )\n",
    "        self.fitness = np.count_nonzero(self.wuerfel_liste == 6)"
   ]
  },
  {
   "cell_type": "code",
   "execution_count": null,
   "metadata": {},
   "outputs": [],
   "source": [
    "popsize = 100\n",
    "selection = 20\n",
    "mutrate = 1\n",
    "max_gen = 1000\n",
    "\n",
    "population = [Individual() for _ in range(popsize)]\n",
    "\n",
    "generation = 0\n",
    "while generation < max_gen:\n",
    "    fittest = sorted(population, key=lambda x: x.fitness, reverse=True)\n",
    "    fittest = fittest[0:selection]\n",
    "    if fittest[0].fitness == 100:\n",
    "        break\n",
    "    if generation % (max_gen*0.1) == 0:\n",
    "        mutrate = mutrate * 0.5\n",
    "    print(f\"gen={generation}, mutrate={mutrate}, fittest={fittest[0].fitness}\")\n",
    "    #print(fittest[0].fitness)\n",
    "    population = fittest[:]\n",
    "    while len(population) < popsize:\n",
    "        random.shuffle(fittest)\n",
    "        mom = fittest.pop()\n",
    "        dad = fittest.pop()\n",
    "        child = Individual(child=True)\n",
    "        for i in range(len(mom.wuerfel_liste)):\n",
    "            child.wuerfel_liste[i] = mom.wuerfel_liste[i] if random.random() < 0.5 else dad.wuerfel_liste[i]\n",
    "        child.mutate(mutrate)\n",
    "        population.append(child)\n",
    "        fittest.append(mom)\n",
    "        fittest.append(dad)\n",
    "\n",
    "    generation += 1\n",
    "\n",
    "fittest = sorted(population, key=lambda x: x.fitness, reverse=True)\n",
    "print(f\"gen={generation}, mutrate={mutrate}, fittest={fittest[0].fitness}\")"
   ]
  },
  {
   "cell_type": "markdown",
   "metadata": {},
   "source": [
    "Man kann zum einen die Parameter anpassen (z.B. Mutationsrate, Selektionsgröße)\n",
    "Zum anderen lässt sich durch einen Epsilon-Greedy ähnlichen Abfall der Mutationsrate erreichen, dass der Algorithmus am Anfang große Menge 6en erzeugt, wo sie noch nicht vorhanden sind und am Ende diese nicht mehr löscht, wo sie bereits bestehen.\n",
    "\n",
    "Als Laufzeitoptimierung wurde eine Darstellung der Klasse - Individual mit Numpy Array verwendet."
   ]
  },
  {
   "cell_type": "markdown",
   "metadata": {},
   "source": [
    "### Aufgabe 2"
   ]
  },
  {
   "cell_type": "code",
   "execution_count": 19,
   "metadata": {},
   "outputs": [],
   "source": [
    "import networkx as nx\n",
    "import numpy as np\n",
    "import random"
   ]
  },
  {
   "cell_type": "code",
   "execution_count": 2,
   "metadata": {},
   "outputs": [],
   "source": [
    "def random_graph(nodes, edges):\n",
    "    G = nx.Graph()\n",
    "    G.add_nodes_from(np.arange(nodes))\n",
    "    possible_edges = [(i, j) for i in range(nodes) for j in range(i + 1, nodes)]\n",
    "    np.random.shuffle(possible_edges)\n",
    "    G.add_edges_from(possible_edges[:edges])\n",
    "    return G"
   ]
  },
  {
   "cell_type": "code",
   "execution_count": 3,
   "metadata": {},
   "outputs": [],
   "source": [
    "class Individ:\n",
    "    def __init__(self, num_nodes):\n",
    "        self.gene = np.random.randint(0,2,size=(num_nodes))\n",
    "\n",
    "    def mutate(self, mutrate):\n",
    "        mask = np.random.random(size=(len(self.gene),)) <= mutrate\n",
    "        self.gene = np.logical_xor(self.gene, mask)"
   ]
  },
  {
   "cell_type": "code",
   "execution_count": 4,
   "metadata": {},
   "outputs": [],
   "source": [
    "def fitness(ind: Individ, G: nx.Graph) -> float:\n",
    "    nodes = np.argwhere(ind.gene == 1)\n",
    "    clique_edges = [\n",
    "        (nodes[i][0], nodes[j][0])\n",
    "        for i in range(len(nodes))\n",
    "        for j in range(i + 1, len(nodes))\n",
    "    ]\n",
    "    edges_in_graph = [edge for edge in clique_edges if edge in G.edges()]\n",
    "    return sum(ind.gene) - (len(clique_edges) - len(edges_in_graph))"
   ]
  },
  {
   "cell_type": "code",
   "execution_count": 45,
   "metadata": {},
   "outputs": [],
   "source": [
    "num_nodes = 10\n",
    "num_edges = 20"
   ]
  },
  {
   "cell_type": "code",
   "execution_count": 46,
   "metadata": {},
   "outputs": [
    {
     "name": "stdout",
     "output_type": "stream",
     "text": [
      "4\n",
      "[[0, 2, 8, 7], [0, 2, 1], [0, 3, 1], [0, 3, 7], [0, 6], [9, 8, 4], [9, 1], [4, 7, 8], [4, 7, 5], [5, 1]]\n"
     ]
    },
    {
     "data": {
      "image/png": "[encoded data removed]",
      "text/plain": [
       "<Figure size 640x480 with 1 Axes>"
      ]
     },
     "metadata": {},
     "output_type": "display_data"
    }
   ],
   "source": [
    "G = random_graph(num_nodes, num_edges)\n",
    "G.edges()\n",
    "print(len(max(list(nx.find_cliques(G)), key=len)))\n",
    "print(list(nx.find_cliques(G)))\n",
    "nx.draw(G)"
   ]
  },
  {
   "cell_type": "code",
   "execution_count": 47,
   "metadata": {},
   "outputs": [
    {
     "name": "stdout",
     "output_type": "stream",
     "text": [
      "gen=0, mutrate=0.1, fittest=3\n",
      "gen=1, mutrate=0.1, fittest=3\n",
      "gen=2, mutrate=0.1, fittest=4\n",
      "gen=3, mutrate=0.1, fittest=4\n",
      "gen=4, mutrate=0.1, fittest=4\n",
      "gen=5, mutrate=0.1, fittest=4\n",
      "gen=6, mutrate=0.1, fittest=4\n",
      "gen=7, mutrate=0.1, fittest=4\n",
      "gen=8, mutrate=0.1, fittest=4\n",
      "gen=9, mutrate=0.1, fittest=4\n",
      "gen=10, mutrate=0.1, fittest=4\n",
      "gen=11, mutrate=0.1, fittest=4\n",
      "gen=12, mutrate=0.1, fittest=4\n",
      "gen=13, mutrate=0.1, fittest=4\n",
      "gen=14, mutrate=0.1, fittest=4\n",
      "gen=15, mutrate=0.1, fittest=4\n",
      "gen=16, mutrate=0.1, fittest=4\n",
      "gen=17, mutrate=0.1, fittest=4\n",
      "gen=18, mutrate=0.1, fittest=4\n",
      "gen=19, mutrate=0.1, fittest=4\n",
      "gen=20, mutrate=0.1, fittest=4\n",
      "gen=21, mutrate=0.1, fittest=4\n",
      "gen=22, mutrate=0.1, fittest=4\n",
      "gen=23, mutrate=0.1, fittest=4\n",
      "gen=24, mutrate=0.1, fittest=4\n",
      "gen=25, mutrate=0.1, fittest=4\n",
      "gen=26, mutrate=0.1, fittest=4\n",
      "gen=27, mutrate=0.1, fittest=4\n",
      "gen=28, mutrate=0.1, fittest=4\n",
      "gen=29, mutrate=0.1, fittest=4\n",
      "gen=30, mutrate=0.1, fittest=4\n",
      "gen=31, mutrate=0.1, fittest=4\n",
      "gen=32, mutrate=0.1, fittest=4\n",
      "gen=33, mutrate=0.1, fittest=4\n",
      "gen=34, mutrate=0.1, fittest=4\n",
      "gen=35, mutrate=0.1, fittest=4\n",
      "gen=36, mutrate=0.1, fittest=4\n",
      "gen=37, mutrate=0.1, fittest=4\n",
      "gen=38, mutrate=0.1, fittest=4\n",
      "gen=39, mutrate=0.1, fittest=4\n",
      "gen=40, mutrate=0.1, fittest=4\n",
      "gen=41, mutrate=0.1, fittest=4\n",
      "gen=42, mutrate=0.1, fittest=4\n",
      "gen=43, mutrate=0.1, fittest=4\n",
      "gen=44, mutrate=0.1, fittest=4\n",
      "gen=45, mutrate=0.1, fittest=4\n",
      "gen=46, mutrate=0.1, fittest=4\n",
      "gen=47, mutrate=0.1, fittest=4\n",
      "gen=48, mutrate=0.1, fittest=4\n",
      "gen=49, mutrate=0.1, fittest=4\n",
      "gen=50, mutrate=0.1, fittest=4\n",
      "gen=51, mutrate=0.1, fittest=4\n",
      "gen=52, mutrate=0.1, fittest=4\n",
      "gen=53, mutrate=0.1, fittest=4\n",
      "gen=54, mutrate=0.1, fittest=4\n",
      "gen=55, mutrate=0.1, fittest=4\n",
      "gen=56, mutrate=0.1, fittest=4\n",
      "gen=57, mutrate=0.1, fittest=4\n",
      "gen=58, mutrate=0.1, fittest=4\n",
      "gen=59, mutrate=0.1, fittest=4\n",
      "gen=60, mutrate=0.1, fittest=4\n",
      "gen=61, mutrate=0.1, fittest=4\n",
      "gen=62, mutrate=0.1, fittest=4\n",
      "gen=63, mutrate=0.1, fittest=4\n",
      "gen=64, mutrate=0.1, fittest=4\n",
      "gen=65, mutrate=0.1, fittest=4\n",
      "gen=66, mutrate=0.1, fittest=4\n",
      "gen=67, mutrate=0.1, fittest=4\n",
      "gen=68, mutrate=0.1, fittest=4\n",
      "gen=69, mutrate=0.1, fittest=4\n",
      "gen=70, mutrate=0.1, fittest=4\n",
      "gen=71, mutrate=0.1, fittest=4\n",
      "gen=72, mutrate=0.1, fittest=4\n",
      "gen=73, mutrate=0.1, fittest=4\n",
      "gen=74, mutrate=0.1, fittest=4\n",
      "gen=75, mutrate=0.1, fittest=4\n",
      "gen=76, mutrate=0.1, fittest=4\n",
      "gen=77, mutrate=0.1, fittest=4\n",
      "gen=78, mutrate=0.1, fittest=4\n",
      "gen=79, mutrate=0.1, fittest=4\n",
      "gen=80, mutrate=0.1, fittest=4\n",
      "gen=81, mutrate=0.1, fittest=4\n",
      "gen=82, mutrate=0.1, fittest=4\n",
      "gen=83, mutrate=0.1, fittest=4\n",
      "gen=84, mutrate=0.1, fittest=4\n",
      "gen=85, mutrate=0.1, fittest=4\n",
      "gen=86, mutrate=0.1, fittest=4\n",
      "gen=87, mutrate=0.1, fittest=4\n",
      "gen=88, mutrate=0.1, fittest=4\n",
      "gen=89, mutrate=0.1, fittest=4\n",
      "gen=90, mutrate=0.1, fittest=4\n",
      "gen=91, mutrate=0.1, fittest=4\n",
      "gen=92, mutrate=0.1, fittest=4\n",
      "gen=93, mutrate=0.1, fittest=4\n",
      "gen=94, mutrate=0.1, fittest=4\n",
      "gen=95, mutrate=0.1, fittest=4\n",
      "gen=96, mutrate=0.1, fittest=4\n",
      "gen=97, mutrate=0.1, fittest=4\n",
      "gen=98, mutrate=0.1, fittest=4\n",
      "gen=99, mutrate=0.1, fittest=4\n",
      "gen=100, mutrate=0.1, fittest=4\n",
      "[[0]\n",
      " [2]\n",
      " [7]\n",
      " [8]]\n",
      "[ True False  True False False False False  True  True False]\n",
      "[0, 2, 8, 7]\n"
     ]
    }
   ],
   "source": [
    "popsize = 100\n",
    "selection = 20\n",
    "mutrate = 0.1\n",
    "max_gen = 100\n",
    "\n",
    "population = [Individ(num_nodes) for _ in range(popsize)]\n",
    "\n",
    "generation = 0\n",
    "while generation < max_gen:\n",
    "    fittest = sorted(population, key=lambda x: fitness(x, G), reverse=True)\n",
    "    fittest = fittest[0:selection]\n",
    "    print(f\"gen={generation}, mutrate={mutrate}, fittest={fitness(fittest[0], G)}\")\n",
    "    #print(fittest[0].fitness)\n",
    "    population = fittest[:]\n",
    "    while len(population) < popsize:\n",
    "        random.shuffle(fittest)\n",
    "        mom = fittest.pop()\n",
    "        dad = fittest.pop()\n",
    "        child = Individ(num_nodes)\n",
    "        for i in range(len(mom.gene)):\n",
    "            child.gene[i] = mom.gene[i] if random.random() < 0.5 else dad.gene[i]\n",
    "        child.mutate(mutrate)\n",
    "        population.append(child)\n",
    "        fittest.append(mom)\n",
    "        fittest.append(dad)\n",
    "\n",
    "    generation += 1\n",
    "\n",
    "fittest = sorted(population, key=lambda x: fitness(x,G), reverse=True)\n",
    "print(f\"gen={generation}, mutrate={mutrate}, fittest={fitness(fittest[0], G)}\")\n",
    "print(np.argwhere(fittest[0].gene == 1))\n",
    "print(fittest[0].gene)\n",
    "print(max(list(nx.find_cliques(G)), key=len))"
   ]
  }
 ],
 "metadata": {
  "kernelspec": {
   "display_name": "Python 3 (ipykernel)",
   "language": "python",
   "name": "python3"
  },
  "language_info": {
   "codemirror_mode": {
    "name": "ipython",
    "version": 3
   },
   "file_extension": ".py",
   "mimetype": "text/x-python",
   "name": "python",
   "nbconvert_exporter": "python",
   "pygments_lexer": "ipython3",
   "version": "3.11.5"
  }
 },
 "nbformat": 4,
 "nbformat_minor": 4
}
