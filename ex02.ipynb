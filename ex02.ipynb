{
 "cells": [
  {
   "cell_type": "markdown",
   "metadata": {},
   "source": [
    "Neuroevolution: Exercise 1 \n",
    "=========\n",
    "Artur Ganzha 10019651\n",
    "---------\t\n",
    "Raul Gorek 10061333\n",
    "---------\t"
   ]
  },
  {
   "cell_type": "code",
   "execution_count": 2,
   "metadata": {},
   "outputs": [],
   "source": [
    "import numpy as np\n",
    "import matplotlib.pyplot as plt\n",
    "import random\n",
    "import time"
   ]
  },
  {
   "cell_type": "code",
   "execution_count": 64,
   "metadata": {},
   "outputs": [],
   "source": [
    "class Dice:\n",
    "    def __init__(self, no_init=False):\n",
    "        if no_init:\n",
    "            self.value = 0\n",
    "        else:\n",
    "            self.value = random.randint(1,6)\n",
    "    \n",
    "    def roll(self):\n",
    "        self.value = random.randint(1,6)\n",
    "\n"
   ]
  },
  {
   "cell_type": "code",
   "execution_count": 63,
   "metadata": {},
   "outputs": [
    {
     "ename": "KeyboardInterrupt",
     "evalue": "",
     "output_type": "error",
     "traceback": [
      "\u001b[0;31m---------------------------------------------------------------------------\u001b[0m",
      "\u001b[0;31mKeyboardInterrupt\u001b[0m                         Traceback (most recent call last)",
      "\u001b[1;32m/Users/arturganzha/NeuroevolutionLab/ex02.ipynb Zelle 4\u001b[0m line \u001b[0;36m6\n\u001b[1;32m      <a href='vscode-notebook-cell:/Users/arturganzha/NeuroevolutionLab/ex02.ipynb#X13sZmlsZQ%3D%3D?line=3'>4</a>\u001b[0m \u001b[39mwhile\u001b[39;00m \u001b[39msum\u001b[39m([wuerfel\u001b[39m.\u001b[39mvalue \u001b[39mfor\u001b[39;00m wuerfel \u001b[39min\u001b[39;00m wuerfel_liste]) \u001b[39m!=\u001b[39m \u001b[39m576\u001b[39m:\n\u001b[1;32m      <a href='vscode-notebook-cell:/Users/arturganzha/NeuroevolutionLab/ex02.ipynb#X13sZmlsZQ%3D%3D?line=4'>5</a>\u001b[0m     \u001b[39mfor\u001b[39;00m wuerfel \u001b[39min\u001b[39;00m wuerfel_liste:\n\u001b[0;32m----> <a href='vscode-notebook-cell:/Users/arturganzha/NeuroevolutionLab/ex02.ipynb#X13sZmlsZQ%3D%3D?line=5'>6</a>\u001b[0m         wuerfel\u001b[39m.\u001b[39;49mroll()\n\u001b[1;32m      <a href='vscode-notebook-cell:/Users/arturganzha/NeuroevolutionLab/ex02.ipynb#X13sZmlsZQ%3D%3D?line=6'>7</a>\u001b[0m     \u001b[39mif\u001b[39;00m time\u001b[39m.\u001b[39mperf_counter() \u001b[39m-\u001b[39m t_start \u001b[39m>\u001b[39m \u001b[39m180\u001b[39m:\n\u001b[1;32m      <a href='vscode-notebook-cell:/Users/arturganzha/NeuroevolutionLab/ex02.ipynb#X13sZmlsZQ%3D%3D?line=7'>8</a>\u001b[0m         \u001b[39mbreak\u001b[39;00m\n",
      "\u001b[1;32m/Users/arturganzha/NeuroevolutionLab/ex02.ipynb Zelle 4\u001b[0m line \u001b[0;36m6\n\u001b[1;32m      <a href='vscode-notebook-cell:/Users/arturganzha/NeuroevolutionLab/ex02.ipynb#X13sZmlsZQ%3D%3D?line=4'>5</a>\u001b[0m \u001b[39mdef\u001b[39;00m \u001b[39mroll\u001b[39m(\u001b[39mself\u001b[39m):\n\u001b[0;32m----> <a href='vscode-notebook-cell:/Users/arturganzha/NeuroevolutionLab/ex02.ipynb#X13sZmlsZQ%3D%3D?line=5'>6</a>\u001b[0m     \u001b[39mself\u001b[39m\u001b[39m.\u001b[39mvalue \u001b[39m=\u001b[39m random\u001b[39m.\u001b[39;49mrandint(\u001b[39m1\u001b[39;49m,\u001b[39m6\u001b[39;49m)\n",
      "File \u001b[0;32m/Library/Frameworks/Python.framework/Versions/3.10/lib/python3.10/random.py:370\u001b[0m, in \u001b[0;36mRandom.randint\u001b[0;34m(self, a, b)\u001b[0m\n\u001b[1;32m    366\u001b[0m \u001b[39mdef\u001b[39;00m \u001b[39mrandint\u001b[39m(\u001b[39mself\u001b[39m, a, b):\n\u001b[1;32m    367\u001b[0m \u001b[39m    \u001b[39m\u001b[39m\"\"\"Return random integer in range [a, b], including both end points.\u001b[39;00m\n\u001b[1;32m    368\u001b[0m \u001b[39m    \"\"\"\u001b[39;00m\n\u001b[0;32m--> 370\u001b[0m     \u001b[39mreturn\u001b[39;00m \u001b[39mself\u001b[39;49m\u001b[39m.\u001b[39;49mrandrange(a, b\u001b[39m+\u001b[39;49m\u001b[39m1\u001b[39;49m)\n",
      "File \u001b[0;32m/Library/Frameworks/Python.framework/Versions/3.10/lib/python3.10/random.py:352\u001b[0m, in \u001b[0;36mRandom.randrange\u001b[0;34m(self, start, stop, step)\u001b[0m\n\u001b[1;32m    350\u001b[0m \u001b[39mif\u001b[39;00m istep \u001b[39m==\u001b[39m \u001b[39m1\u001b[39m:\n\u001b[1;32m    351\u001b[0m     \u001b[39mif\u001b[39;00m width \u001b[39m>\u001b[39m \u001b[39m0\u001b[39m:\n\u001b[0;32m--> 352\u001b[0m         \u001b[39mreturn\u001b[39;00m istart \u001b[39m+\u001b[39m \u001b[39mself\u001b[39;49m\u001b[39m.\u001b[39;49m_randbelow(width)\n\u001b[1;32m    353\u001b[0m     \u001b[39mraise\u001b[39;00m \u001b[39mValueError\u001b[39;00m(\u001b[39m\"\u001b[39m\u001b[39mempty range for randrange() (\u001b[39m\u001b[39m%d\u001b[39;00m\u001b[39m, \u001b[39m\u001b[39m%d\u001b[39;00m\u001b[39m, \u001b[39m\u001b[39m%d\u001b[39;00m\u001b[39m)\u001b[39m\u001b[39m\"\u001b[39m \u001b[39m%\u001b[39m (istart, istop, width))\n\u001b[1;32m    355\u001b[0m \u001b[39m# Non-unit step argument supplied.\u001b[39;00m\n",
      "File \u001b[0;32m/Library/Frameworks/Python.framework/Versions/3.10/lib/python3.10/random.py:246\u001b[0m, in \u001b[0;36mRandom._randbelow_with_getrandbits\u001b[0;34m(self, n)\u001b[0m\n\u001b[1;32m    244\u001b[0m getrandbits \u001b[39m=\u001b[39m \u001b[39mself\u001b[39m\u001b[39m.\u001b[39mgetrandbits\n\u001b[1;32m    245\u001b[0m k \u001b[39m=\u001b[39m n\u001b[39m.\u001b[39mbit_length()  \u001b[39m# don't use (n-1) here because n can be 1\u001b[39;00m\n\u001b[0;32m--> 246\u001b[0m r \u001b[39m=\u001b[39m getrandbits(k)  \u001b[39m# 0 <= r < 2**k\u001b[39;00m\n\u001b[1;32m    247\u001b[0m \u001b[39mwhile\u001b[39;00m r \u001b[39m>\u001b[39m\u001b[39m=\u001b[39m n:\n\u001b[1;32m    248\u001b[0m     r \u001b[39m=\u001b[39m getrandbits(k)\n",
      "\u001b[0;31mKeyboardInterrupt\u001b[0m: "
     ]
    }
   ],
   "source": [
    "wuerfel_liste = [Dice() for _ in range(100)]\n",
    "\n",
    "t_start = time.perf_counter()\n",
    "while sum([wuerfel.value for wuerfel in wuerfel_liste]) != 576:\n",
    "    for wuerfel in wuerfel_liste:\n",
    "        wuerfel.roll()\n",
    "    if time.perf_counter() - t_start > 180:\n",
    "        break"
   ]
  },
  {
   "cell_type": "code",
   "execution_count": 42,
   "metadata": {},
   "outputs": [],
   "source": [
    "class Individual:\n",
    "    def __init__(self, child=False):\n",
    "        if child:\n",
    "            self.wuerfel_liste = [Dice(no_init=True) for _ in range(100)]\n",
    "            self.fitness = 0\n",
    "        else:\n",
    "            self.wuerfel_liste = [Dice() for _ in range(100)]\n",
    "            self.fitness = sum([wuerfel.value for wuerfel in self.wuerfel_liste])\n",
    "\n",
    "    def mutate(self, p):\n",
    "        for wuerfel in self.wuerfel_liste:\n",
    "            if random.random() < p:\n",
    "                wuerfel.roll()\n",
    "        self.fitness = sum([wuerfel.value for wuerfel in self.wuerfel_liste])"
   ]
  },
  {
   "cell_type": "code",
   "execution_count": 60,
   "metadata": {},
   "outputs": [],
   "source": [
    "popsize = 100\n",
    "selection = 20\n",
    "mutrate = 0.05\n",
    "max_gen = 1000"
   ]
  },
  {
   "cell_type": "code",
   "execution_count": 61,
   "metadata": {},
   "outputs": [
    {
     "name": "stdout",
     "output_type": "stream",
     "text": [
      "567\n"
     ]
    }
   ],
   "source": [
    "population = [Individual() for _ in range(popsize)]\n",
    "\n",
    "generation = 1\n",
    "while generation <= max_gen:\n",
    "    fittest = sorted(population, key=lambda x: x.fitness, reverse=True)\n",
    "    fittest = fittest[0:selection]\n",
    "    if fittest[0] == 600:\n",
    "        break\n",
    "    #print(fittest[0].fitness)\n",
    "    population = fittest[:]\n",
    "    while len(population) < popsize:\n",
    "        random.shuffle(fittest)\n",
    "        mom = fittest.pop()\n",
    "        dad = fittest.pop()\n",
    "        child = Individual(child=True)\n",
    "        for i in range(len(mom.wuerfel_liste)):\n",
    "            child.wuerfel_liste[i].value = mom.wuerfel_liste[i].value if random.random() < 0.5 else dad.wuerfel_liste[i].value\n",
    "        child.mutate(mutrate)\n",
    "        population.append(child)\n",
    "        fittest.append(mom)\n",
    "        fittest.append(dad)\n",
    "\n",
    "    generation += 1\n",
    "\n",
    "fittest = sorted(population, key=lambda x: x.fitness)\n",
    "fittest = fittest[0]\n",
    "print(fittest.fitness)"
   ]
  },
  {
   "cell_type": "markdown",
   "metadata": {},
   "source": [
    "Man kann zum einen die Parameter anpassen (z.B. Mutationsrate, Selektionsgröße)\n",
    "Hierbei lässt eine niedrige Mutationsrate eine schnellere Konvergenz zu\n",
    "Laufzeitoptimierung"
   ]
  }
 ],
 "metadata": {
  "kernelspec": {
   "display_name": "Python 3",
   "language": "python",
   "name": "python3"
  },
  "language_info": {
   "codemirror_mode": {
    "name": "ipython",
    "version": 3
   },
   "file_extension": ".py",
   "mimetype": "text/x-python",
   "name": "python",
   "nbconvert_exporter": "python",
   "pygments_lexer": "ipython3",
   "version": "3.10.2"
  }
 },
 "nbformat": 4,
 "nbformat_minor": 2
}
