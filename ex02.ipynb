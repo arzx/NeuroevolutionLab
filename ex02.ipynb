{
 "cells": [
  {
   "cell_type": "markdown",
   "metadata": {},
   "source": [
    "Neuroevolution: Exercise 1 \n",
    "=========\n",
    "Artur Ganzha 10019651\n",
    "---------\t\n",
    "Raul Gorek 10061333\n",
    "---------\t"
   ]
  },
  {
   "cell_type": "code",
   "execution_count": 2,
   "metadata": {},
   "outputs": [],
   "source": [
    "import numpy as np\n",
    "import matplotlib.pyplot as plt\n",
    "import random\n",
    "import time"
   ]
  },
  {
   "cell_type": "code",
   "execution_count": 64,
   "metadata": {},
   "outputs": [],
   "source": [
    "class Dice:\n",
    "    def __init__(self, no_init=False):\n",
    "        if no_init:\n",
    "            self.value = 0\n",
    "        else:\n",
    "            self.value = random.randint(1,6)\n",
    "    \n",
    "    def roll(self):\n",
    "        self.value = random.randint(1,6)\n",
    "\n"
   ]
  },
  {
   "cell_type": "code",
   "execution_count": 70,
   "metadata": {},
   "outputs": [],
   "source": [
    "wuerfel_liste = [Dice() for _ in range(100)]\n",
    "\n",
    "t_start = time.perf_counter()\n",
    "while sum([wuerfel.value for wuerfel in wuerfel_liste]) != 600:\n",
    "    for wuerfel in wuerfel_liste:\n",
    "        wuerfel.roll()\n",
    "    if time.perf_counter() - t_start > 180:\n",
    "        break"
   ]
  },
  {
   "cell_type": "code",
   "execution_count": 65,
   "metadata": {},
   "outputs": [],
   "source": [
    "class Individual:\n",
    "    def __init__(self, child=False):\n",
    "        if child:\n",
    "            self.wuerfel_liste = [Dice(no_init=True) for _ in range(100)]\n",
    "            self.fitness = 0\n",
    "        else:\n",
    "            self.wuerfel_liste = [Dice() for _ in range(100)]\n",
    "            self.fitness = sum([wuerfel.value for wuerfel in self.wuerfel_liste])\n",
    "\n",
    "    def mutate(self, p):\n",
    "        for wuerfel in self.wuerfel_liste:\n",
    "            if random.random() < p:\n",
    "                wuerfel.roll()\n",
    "        self.fitness = sum([wuerfel.value for wuerfel in self.wuerfel_liste])"
   ]
  },
  {
   "cell_type": "code",
   "execution_count": 91,
   "metadata": {},
   "outputs": [],
   "source": [
    "popsize = 100\n",
    "selection = 20\n",
    "mutrate = 0.5\n",
    "max_gen = 1000"
   ]
  },
  {
   "cell_type": "code",
   "execution_count": 92,
   "metadata": {},
   "outputs": [
    {
     "name": "stdout",
     "output_type": "stream",
     "text": [
      "547\n"
     ]
    }
   ],
   "source": [
    "population = [Individual() for _ in range(popsize)]\n",
    "\n",
    "generation = 1\n",
    "while generation <= max_gen:\n",
    "    fittest = sorted(population, key=lambda x: x.fitness, reverse=True)\n",
    "    fittest = fittest[0:selection]\n",
    "    if fittest[0] == 600:\n",
    "        break\n",
    "    #print(fittest[0].fitness)\n",
    "    population = fittest[:]\n",
    "    while len(population) < popsize:\n",
    "        random.shuffle(fittest)\n",
    "        mom = fittest.pop()\n",
    "        dad = fittest.pop()\n",
    "        child = Individual(child=True)\n",
    "        if generation % (0.1 * max_gen):\n",
    "            mutrate *= 0.5\n",
    "        for i in range(len(mom.wuerfel_liste)):\n",
    "            child.wuerfel_liste[i].value = mom.wuerfel_liste[i].value if random.random() < 0.5 else dad.wuerfel_liste[i].value\n",
    "        child.mutate(mutrate)\n",
    "        population.append(child)\n",
    "        fittest.append(mom)\n",
    "        fittest.append(dad)\n",
    "\n",
    "    generation += 1\n",
    "\n",
    "fittest = sorted(population, key=lambda x: x.fitness)\n",
    "fittest = fittest[0]\n",
    "print(fittest.fitness)"
   ]
  },
  {
   "cell_type": "markdown",
   "metadata": {},
   "source": [
    "Man kann zum einen die Parameter anpassen (z.B. Mutationsrate, Selektionsgröße)\n",
    "Hierbei lässt eine niedrige Mutationsrate eine schnellere Konvergenz zu\n",
    "Laufzeitoptimierung:\n",
    "Durch ein paar boolean Parameter kann die Rechenzeit verringert werden, indem die Würfel nicht gewürfelt werden, wenn ein Kind erstellt wird.\n",
    "Resultat: -2s"
   ]
  },
  {
   "cell_type": "code",
   "execution_count": null,
   "metadata": {},
   "outputs": [],
   "source": []
  }
 ],
 "metadata": {
  "kernelspec": {
   "display_name": "Python 3",
   "language": "python",
   "name": "python3"
  },
  "language_info": {
   "codemirror_mode": {
    "name": "ipython",
    "version": 3
   },
   "file_extension": ".py",
   "mimetype": "text/x-python",
   "name": "python",
   "nbconvert_exporter": "python",
   "pygments_lexer": "ipython3",
   "version": "3.10.2"
  }
 },
 "nbformat": 4,
 "nbformat_minor": 2
}
