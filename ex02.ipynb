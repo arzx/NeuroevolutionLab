{
 "cells": [
  {
   "cell_type": "markdown",
   "metadata": {},
   "source": [
    "Neuroevolution: Exercise 1 \n",
    "=========\n",
    "###### Artur Ganzha 10019651\n",
    "---------\t\n",
    "###### Raul Gorek 10061333\n",
    "---------\t"
   ]
  },
  {
   "cell_type": "markdown",
   "metadata": {},
   "source": [
    "### Aufgabe 1"
   ]
  },
  {
   "cell_type": "code",
   "execution_count": null,
   "metadata": {},
   "outputs": [],
   "source": [
    "import numpy as np\n",
    "import matplotlib.pyplot as plt\n",
    "import random\n",
    "import time"
   ]
  },
  {
   "cell_type": "code",
   "execution_count": null,
   "metadata": {},
   "outputs": [],
   "source": [
    "class Dice:\n",
    "    def __init__(self, no_init=False):\n",
    "        if no_init:\n",
    "            self.value = 0\n",
    "        else:\n",
    "            self.value = random.randint(1,6)\n",
    "    \n",
    "    def roll(self):\n",
    "        self.value = random.randint(1,6)"
   ]
  },
  {
   "cell_type": "code",
   "execution_count": null,
   "metadata": {},
   "outputs": [],
   "source": [
    "wuerfel_liste = [Dice() for _ in range(100)]\n",
    "\n",
    "t_start = time.perf_counter()\n",
    "while sum([wuerfel.value for wuerfel in wuerfel_liste]) != 600:\n",
    "    for wuerfel in wuerfel_liste:\n",
    "        wuerfel.roll()\n",
    "    if time.perf_counter() - t_start > 180:\n",
    "        break"
   ]
  },
  {
   "cell_type": "code",
   "execution_count": null,
   "metadata": {},
   "outputs": [],
   "source": [
    "class Individual:\n",
    "    def __init__(self, child=False, num=100):\n",
    "        self.num = num\n",
    "        if child:\n",
    "            self.wuerfel_liste = np.zeros(shape=(num,))\n",
    "            self.fitness = 0\n",
    "        else:\n",
    "            self.wuerfel_liste = np.random.randint(1, 7, size=(num,))\n",
    "            self.fitness = np.count_nonzero(self.wuerfel_liste == 6)\n",
    "\n",
    "    def mutate(self, p):\n",
    "        mask = np.random.random(size=(self.num,)) <= p\n",
    "        self.wuerfel_liste = np.multiply(self.wuerfel_liste, np.logical_not(mask))\n",
    "        self.wuerfel_liste = np.add(\n",
    "            np.multiply(np.random.randint(1, 7, size=mask.size), mask),\n",
    "            self.wuerfel_liste,\n",
    "        )\n",
    "        self.fitness = np.count_nonzero(self.wuerfel_liste == 6)"
   ]
  },
  {
   "cell_type": "code",
   "execution_count": null,
   "metadata": {},
   "outputs": [],
   "source": [
    "popsize = 100\n",
    "selection = 20\n",
    "mutrate = 1\n",
    "max_gen = 1000\n",
    "\n",
    "population = [Individual() for _ in range(popsize)]\n",
    "\n",
    "generation = 0\n",
    "while generation < max_gen:\n",
    "    fittest = sorted(population, key=lambda x: x.fitness, reverse=True)\n",
    "    fittest = fittest[0:selection]\n",
    "    if fittest[0].fitness == 100:\n",
    "        break\n",
    "    if generation % (max_gen*0.1) == 0:\n",
    "        mutrate = mutrate * 0.5\n",
    "    print(f\"gen={generation}, mutrate={mutrate}, fittest={fittest[0].fitness}\")\n",
    "    #print(fittest[0].fitness)\n",
    "    population = fittest[:]\n",
    "    while len(population) < popsize:\n",
    "        random.shuffle(fittest)\n",
    "        mom = fittest.pop()\n",
    "        dad = fittest.pop()\n",
    "        child = Individual(child=True)\n",
    "        for i in range(len(mom.wuerfel_liste)):\n",
    "            child.wuerfel_liste[i] = mom.wuerfel_liste[i] if random.random() < 0.5 else dad.wuerfel_liste[i]\n",
    "        child.mutate(mutrate)\n",
    "        population.append(child)\n",
    "        fittest.append(mom)\n",
    "        fittest.append(dad)\n",
    "\n",
    "    generation += 1\n",
    "\n",
    "fittest = sorted(population, key=lambda x: x.fitness, reverse=True)\n",
    "print(f\"gen={generation}, mutrate={mutrate}, fittest={fittest[0].fitness}\")"
   ]
  },
  {
   "cell_type": "markdown",
   "metadata": {},
   "source": [
    "Man kann zum einen die Parameter anpassen (z.B. Mutationsrate, Selektionsgröße)\n",
    "Zum anderen lässt sich durch einen Epsilon-Greedy ähnlichen Abfall der Mutationsrate erreichen, dass der Algorithmus am Anfang große Menge 6en erzeugt, wo sie noch nicht vorhanden sind und am Ende diese nicht mehr löscht, wo sie bereits bestehen.\n",
    "\n",
    "Als Laufzeitoptimierung wurde eine Darstellung der Klasse - Individual mit Numpy Array verwendet."
   ]
  },
  {
   "cell_type": "markdown",
   "metadata": {},
   "source": [
    "### Aufgabe 2"
   ]
  },
  {
   "cell_type": "code",
   "execution_count": null,
   "metadata": {},
   "outputs": [],
   "source": [
    "import networkx as nx\n",
    "import numpy as np"
   ]
  },
  {
   "cell_type": "code",
   "execution_count": null,
   "metadata": {},
   "outputs": [],
   "source": [
    "def random_graph(nodes, edges):\n",
    "    G = nx.Graph()\n",
    "    G.add_nodes_from(np.arange(nodes))\n",
    "    possible_edges = [(i, j) for i in range(nodes) for j in range(i + 1, nodes)]\n",
    "    np.random.shuffle(possible_edges)\n",
    "    G.add_edges_from(possible_edges[:edges])\n",
    "    return G"
   ]
  },
  {
   "cell_type": "code",
   "execution_count": null,
   "metadata": {},
   "outputs": [],
   "source": [
    "class Individ:\n",
    "    def __init__(self, num_nodes):\n",
    "        self.gene = np.random.randint(0,2,size=(num_nodes))\n",
    "\n",
    "    def mutate(self, mutrate):\n",
    "        mask = np.random.random(size=(len(self.gene),)) <= mutrate\n",
    "        self.gene = np.logical_xor(self.gene, mask)"
   ]
  },
  {
   "cell_type": "code",
   "execution_count": null,
   "metadata": {},
   "outputs": [],
   "source": [
    "def fitness(ind: Individ, G: nx.Graph) -> float:\n",
    "    nodes = np.argwhere(ind.gene == 1)\n",
    "    clique_edges = [\n",
    "        (nodes[i][0], nodes[j][0])\n",
    "        for i in range(len(nodes))\n",
    "        for j in range(i + 1, len(nodes))\n",
    "    ]\n",
    "    edges_in_graph = [edge for edge in clique_edges if edge in G.edges()]\n",
    "    return sum(ind.gene) - (len(clique_edges) - len(edges_in_graph))"
   ]
  },
  {
   "cell_type": "code",
   "execution_count": null,
   "metadata": {},
   "outputs": [],
   "source": [
    "G = random_graph(10,20)\n",
    "G.edges()\n",
    "\n",
    "popsize = 100\n",
    "selection = 20\n",
    "mutrate = 0.01\n",
    "max_gen = 1000\n",
    "\n",
    "population = [Individ() for _ in range(popsize)]\n",
    "\n",
    "generation = 0\n",
    "while generation < max_gen:\n",
    "    fittest = sorted(population, key=lambda x: fitness(x), reverse=True)\n",
    "    fittest = fittest[0:selection]\n",
    "    if fittest[0].fitness == len(nx.max_clique(G)):\n",
    "        break\n",
    "    # if generation % (max_gen*0.1) == 0:\n",
    "    #     mutrate = mutrate * 0.5\n",
    "    print(f\"gen={generation}, mutrate={mutrate}, fittest={fittest[0].fitness}\")\n",
    "    #print(fittest[0].fitness)\n",
    "    population = fittest[:]\n",
    "    while len(population) < popsize:\n",
    "        random.shuffle(fittest)\n",
    "        mom = fittest.pop()\n",
    "        dad = fittest.pop()\n",
    "        child = Individ()\n",
    "        for i in range(len(mom.gene)):\n",
    "            child.gene[i] = mom.gene[i] if random.random() < 0.5 else dad.gene[i]\n",
    "        child.mutate(mutrate)\n",
    "        population.append(child)\n",
    "        fittest.append(mom)\n",
    "        fittest.append(dad)\n",
    "\n",
    "    generation += 1\n",
    "\n",
    "fittest = sorted(population, key=lambda x: x.fitness, reverse=True)\n",
    "print(f\"gen={generation}, mutrate={mutrate}, fittest={fittest[0].fitness}\")"
   ]
  }
 ],
 "metadata": {
  "kernelspec": {
   "display_name": "Python 3",
   "language": "python",
   "name": "python3"
  },
  "language_info": {
   "codemirror_mode": {
    "name": "ipython",
    "version": 3
   },
   "file_extension": ".py",
   "mimetype": "text/x-python",
   "name": "python",
   "nbconvert_exporter": "python",
   "pygments_lexer": "ipython3",
   "version": "3.10.13"
  }
 },
 "nbformat": 4,
 "nbformat_minor": 2
}
