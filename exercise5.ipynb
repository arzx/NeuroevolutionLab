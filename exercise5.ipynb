{
 "cells": [
  {
   "cell_type": "markdown",
   "metadata": {},
   "source": [
    "Neuroevolution: Exercise 5\n",
    "=========\n",
    "###### Artur Ganzha 10019651\n",
    "---------\t\n",
    "###### Raul Gorek 10061333\n",
    "---------\t"
   ]
  },
  {
   "cell_type": "code",
   "execution_count": 21,
   "metadata": {},
   "outputs": [],
   "source": [
    "import gymnasium as gym\n",
    "import numpy as np\n",
    "from collections import namedtuple, deque\n",
    "import random"
   ]
  },
  {
   "cell_type": "code",
   "execution_count": 22,
   "metadata": {},
   "outputs": [],
   "source": [
    "### NeuralNet\n",
    "def derivative_bcel(prediction, ground_truth):\n",
    "    x =  np.where(ground_truth == 0, 1.0 / (1.0 - prediction), -1.0 / prediction)\n",
    "    return x\n",
    "\n",
    "def derivative_mse(prediction, ground_truth):\n",
    "    batch_size = ground_truth.shape[0]\n",
    "    return -2 * (ground_truth - prediction) / batch_size\n",
    "\n",
    "class Linear:\n",
    "    def __init__(self, input_size, output_size):\n",
    "        self.input_size = input_size\n",
    "        self.output_size = output_size\n",
    "        self.W = np.random.uniform(-1, 1,(self.input_size,self.output_size))\n",
    "        self.B = np.zeros((1, self.output_size))\n",
    "    \n",
    "    def forward(self, x):\n",
    "        self.fw = x\n",
    "        return np.dot(x, self.W) + self.B\n",
    "    \n",
    "    def backward(self, d, lr):\n",
    "        d_w = np.dot(self.fw.T, d)\n",
    "        d_e = np.dot(d, self.W.T)\n",
    "        d_b = np.sum(d, axis=0, keepdims=True)\n",
    "        self.W -= lr * d_w / self.fw.shape[0]\n",
    "        self.B -= lr * d_b / self.fw.shape[0]\n",
    "        return d_e\n",
    "\n",
    "\n",
    "class ReLU:\n",
    "    def __init__(self):\n",
    "        pass\n",
    "\n",
    "    def forward(self, x):\n",
    "        self.fw = x\n",
    "        return x * (x > 0)\n",
    "    \n",
    "    def backward(self, d, lr):\n",
    "        return d * np.where(self.fw > 0, 1.0, 0.0)\n",
    "    \n",
    "\n",
    "class Sigmoid:\n",
    "    def __init__(self):\n",
    "        pass\n",
    "    \n",
    "    def forward(self, x):\n",
    "        self.fw = x\n",
    "        self.out = 1.0 / (1.0 + np.exp(-x))\n",
    "        return self.out\n",
    "    \n",
    "    def backward(self, d, lr):\n",
    "        return d * (self.out * (1.0 - self.out))\n",
    "    \n",
    "\n",
    "class NeuralNetwork:\n",
    "    def __init__(self, layers: list):\n",
    "        self.layers = layers\n",
    "\n",
    "    def forward_pass(self, x):\n",
    "        for layer in self.layers:\n",
    "            x = layer.forward(x)\n",
    "        return x\n",
    "    \n",
    "    def backward_pass(self, deriv, lr):\n",
    "        for layer in reversed(self.layers):\n",
    "            deriv = layer.backward(deriv, lr)\n",
    "\n"
   ]
  },
  {
   "cell_type": "markdown",
   "metadata": {},
   "source": [
    "# Aufgabe 1"
   ]
  },
  {
   "cell_type": "code",
   "execution_count": 23,
   "metadata": {},
   "outputs": [
    {
     "name": "stdout",
     "output_type": "stream",
     "text": [
      "[[ 0.17852823 -0.01534559]]\n"
     ]
    }
   ],
   "source": [
    "env = gym.make('CartPole-v1')\n",
    "num_actions = env.action_space.n\n",
    "obs_shape = env.observation_space.shape[0]\n",
    "\n",
    "q_net = NeuralNetwork([\n",
    "    Linear(obs_shape, 32), ReLU(),\n",
    "    Linear(32, 32), ReLU(),\n",
    "    Linear(32, num_actions)\n",
    "])\n",
    "\n",
    "state, info = env.reset()\n",
    "action = env.action_space.sample()\n",
    "next_state, reward, terminated, truncated, _ = env.step(action)\n",
    "done = terminated or truncated\n",
    "\n",
    "q_values = q_net.forward_pass(state)\n",
    "print(q_values)"
   ]
  },
  {
   "cell_type": "markdown",
   "metadata": {},
   "source": [
    "# Aufgabe 2"
   ]
  },
  {
   "cell_type": "code",
   "execution_count": 24,
   "metadata": {},
   "outputs": [],
   "source": [
    "Transition = namedtuple('Transition',\n",
    "                        ('state', 'action', 'next_state', 'reward', 'done'))\n",
    "\n",
    "\n",
    "class ReplayMemory(object):\n",
    "\n",
    "    def __init__(self, capacity):\n",
    "        self.memory = deque([], maxlen=capacity)\n",
    "\n",
    "    def push(self, *args):\n",
    "        \"\"\"Save a transition\"\"\"\n",
    "        self.memory.append(Transition(*args))\n",
    "\n",
    "    def sample(self, batch_size):\n",
    "        return random.sample(self.memory, batch_size)\n",
    "\n",
    "    def __len__(self):\n",
    "        return len(self.memory)"
   ]
  },
  {
   "cell_type": "markdown",
   "metadata": {},
   "source": [
    "# Aufgabe 3"
   ]
  },
  {
   "cell_type": "code",
   "execution_count": 52,
   "metadata": {},
   "outputs": [],
   "source": [
    "EPSILON = 1.0\n",
    "EPSILON_DECAY = 0.997\n",
    "MIN_EPSILON = 0.01\n",
    "CONV_CRIT = 350\n",
    "BATCH_SIZE = 4\n",
    "LEARNING_RATE = 0.001"
   ]
  },
  {
   "cell_type": "code",
   "execution_count": 53,
   "metadata": {},
   "outputs": [],
   "source": [
    "env = gym.make('CartPole-v1')\n",
    "num_actions = env.action_space.n\n",
    "obs_shape = env.observation_space.shape[0]\n",
    "q_net = NeuralNetwork([\n",
    "    Linear(obs_shape, 32), ReLU(),\n",
    "    Linear(32, 32), ReLU(),\n",
    "    Linear(32, num_actions)\n",
    "])\n",
    "buffer = ReplayMemory(100_000)"
   ]
  },
  {
   "cell_type": "code",
   "execution_count": 54,
   "metadata": {},
   "outputs": [],
   "source": [
    "def optimize():\n",
    "    if len(buffer) < BATCH_SIZE:\n",
    "        return\n",
    "    transitions = buffer.sample(BATCH_SIZE)\n",
    "    states = np.array([t[0] for t in transitions])\n",
    "    actions = np.array([t[1] for t in transitions])\n",
    "    rewards = np.array([t[2] for t in transitions])\n",
    "    next_states = np.array([t[3] for t in transitions])\n",
    "    dones = np.array([t[4] for t in transitions])\n",
    "    Q_next_states = q_net.forward_pass(next_states)\n",
    "    Q_now = q_net.forward_pass(states)\n",
    "    Q_target = Q_now.copy()\n",
    "    Q_target[np.arange(BATCH_SIZE), actions] = rewards + GAMMA * np.max(Q_next_states, axis=1) * (1-dones)\n",
    "    grad = derivative_mse(ground_truth=Q_target, prediction=Q_now)\n",
    "    grad = np.clip(grad, -2, 2)\n",
    "    # print(grad)\n",
    "    q_net.backward_pass(grad, LEARNING_RATE)"
   ]
  },
  {
   "cell_type": "code",
   "execution_count": 55,
   "metadata": {},
   "outputs": [
    {
     "name": "stdout",
     "output_type": "stream",
     "text": [
      "Episode:  50 Reward:  39.0 Epsilon:  0.8631032605924442\n",
      "Episode:  100 Reward:  14.0 Epsilon:  0.7427123967299725\n",
      "Episode:  150 Reward:  12.0 Epsilon:  0.6391143788261682\n",
      "Episode:  200 Reward:  24.0 Epsilon:  0.549966839143611\n",
      "Episode:  250 Reward:  62.0 Epsilon:  0.4732541375663234\n",
      "Episode:  300 Reward:  118.0 Epsilon:  0.40724178765469166\n"
     ]
    }
   ],
   "source": [
    "rewards = []\n",
    "converged = False\n",
    "episode = 1\n",
    "while not converged:\n",
    "    state, _ = env.reset()\n",
    "    done = False\n",
    "    steps = 0\n",
    "    while not done:\n",
    "        r = np.random.random()\n",
    "        if r < EPSILON:\n",
    "            action = env.action_space.sample()\n",
    "        else:\n",
    "            action = np.argmax(q_net.forward_pass(state))\n",
    "        next_state, reward, terminated, truncated, info = env.step(action)\n",
    "        done = terminated or truncated\n",
    "        buffer.push(state, action, reward, next_state, done)\n",
    "        state = next_state\n",
    "        brk = optimize()\n",
    "        steps += reward\n",
    "        if np.mean(rewards[-2:]) > CONV_CRIT:\n",
    "            converged = True\n",
    "            break\n",
    "    episode += 1\n",
    "    EPSILON = max(MIN_EPSILON, EPSILON * EPSILON_DECAY)\n",
    "    if episode % 50 == 0:\n",
    "        print('Episode: ', episode, 'Reward: ', steps, 'Epsilon: ', EPSILON)\n",
    "    rewards.append(steps)"
   ]
  },
  {
   "cell_type": "code",
   "execution_count": 56,
   "metadata": {},
   "outputs": [
    {
     "data": {
      "text/plain": [
       "Text(0, 0.5, 'Return')"
      ]
     },
     "execution_count": 56,
     "metadata": {},
     "output_type": "execute_result"
    },
    {
     "data": {
      "image/png": "[encoded data removed]",
      "text/plain": [
       "<Figure size 640x480 with 1 Axes>"
      ]
     },
     "metadata": {},
     "output_type": "display_data"
    }
   ],
   "source": [
    "import matplotlib.pyplot as plt\n",
    "\n",
    "plt.plot(np.arange(len(rewards)), rewards)\n",
    "plt.xlabel('Episode')\n",
    "plt.ylabel('Return')"
   ]
  },
  {
   "cell_type": "code",
   "execution_count": 57,
   "metadata": {},
   "outputs": [],
   "source": [
    "env = gym.make('CartPole-v1', render_mode='human')\n",
    "state, _ = env.reset()\n",
    "done = False\n",
    "while not done:\n",
    "    env.render()\n",
    "    action = np.argmax(q_net.forward_pass(state))\n",
    "    state, reward, term, trunc, _ = env.step(action)\n",
    "    done = term or trunc\n",
    "\n",
    "env.close()"
   ]
  }
 ],
 "metadata": {
  "kernelspec": {
   "display_name": "rl_exercises",
   "language": "python",
   "name": "python3"
  },
  "language_info": {
   "codemirror_mode": {
    "name": "ipython",
    "version": 3
   },
   "file_extension": ".py",
   "mimetype": "text/x-python",
   "name": "python",
   "nbconvert_exporter": "python",
   "pygments_lexer": "ipython3",
   "version": "3.10.13"
  }
 },
 "nbformat": 4,
 "nbformat_minor": 2
}
