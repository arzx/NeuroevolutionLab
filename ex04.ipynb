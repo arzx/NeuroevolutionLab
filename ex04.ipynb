{
 "cells": [
  {
   "cell_type": "markdown",
   "metadata": {},
   "source": []
  },
  {
   "cell_type": "code",
   "execution_count": 257,
   "metadata": {},
   "outputs": [],
   "source": [
    "import numpy as np"
   ]
  },
  {
   "cell_type": "code",
   "execution_count": 258,
   "metadata": {},
   "outputs": [],
   "source": [
    "class NeuralNetwork:\n",
    "    def __init__(self, layers: list):\n",
    "        self.layers = layers\n",
    "        for layer in self.layers:\n",
    "            layer.init()\n",
    "\n",
    "    def forward_pass(self, x):\n",
    "        for layer in self.layers:\n",
    "            x = layer.forward(x)\n",
    "        return x\n",
    "    \n",
    "    def backward_pass(self, deriv, lr):\n",
    "        for layer in reversed(self.layers):\n",
    "            deriv = layer.backward(deriv, lr)\n"
   ]
  },
  {
   "cell_type": "code",
   "execution_count": 259,
   "metadata": {},
   "outputs": [],
   "source": [
    "class Linear:\n",
    "    def __init__(self, input_size, output_size):\n",
    "        self.input_size = input_size\n",
    "        self.output_size = output_size\n",
    "    \n",
    "    def init(self):\n",
    "        self.W = np.random.uniform(-1, 1,(self.input_size,self.output_size))\n",
    "        self.B = np.zeros((1, self.output_size))\n",
    "    \n",
    "    def forward(self, x):\n",
    "        self.fw = x\n",
    "        return np.dot(x, self.W) + self.B\n",
    "    \n",
    "    def backward(self, d, lr):\n",
    "        d_w = np.dot(self.fw.T, d)\n",
    "        d_e = np.dot(d, self.W.T)\n",
    "        d_b = np.sum(d, axis=0, keepdims=True)\n",
    "        self.W -= lr * d_w / self.fw.shape[0]\n",
    "        self.B -= lr * d_b / self.fw.shape[0]\n",
    "        return d_e"
   ]
  },
  {
   "cell_type": "code",
   "execution_count": 260,
   "metadata": {},
   "outputs": [],
   "source": [
    "class ReLU:\n",
    "    def __init__(self):\n",
    "        pass\n",
    "\n",
    "    def init(self):\n",
    "        pass\n",
    "\n",
    "    def forward(self, x):\n",
    "        self.fw = x\n",
    "        return x * (x > 0)\n",
    "    \n",
    "    def backward(self, d, lr):\n",
    "        return d * np.where(self.fw > 0, 1.0, 0.0)"
   ]
  },
  {
   "cell_type": "code",
   "execution_count": 261,
   "metadata": {},
   "outputs": [],
   "source": [
    "class Sigmoid:\n",
    "    def __init__(self):\n",
    "        pass\n",
    "    \n",
    "    def init(self):\n",
    "        pass\n",
    "    \n",
    "    def forward(self, x):\n",
    "        self.fw = x\n",
    "        self.out = 1.0 / (1.0 + np.exp(-x))\n",
    "        return self.out\n",
    "    \n",
    "    def backward(self, d, lr):\n",
    "        return d * (self.out * (1.0 - self.out))"
   ]
  },
  {
   "cell_type": "code",
   "execution_count": 262,
   "metadata": {},
   "outputs": [],
   "source": [
    "arch = [\n",
    "    Linear(2,8),\n",
    "    ReLU(),\n",
    "    Linear(8,1),\n",
    "    Sigmoid()\n",
    "]\n",
    "net = NeuralNetwork(arch)\n"
   ]
  },
  {
   "cell_type": "code",
   "execution_count": 263,
   "metadata": {},
   "outputs": [],
   "source": [
    "def print_weights(self):\n",
    "    for layer in self.layers:\n",
    "        if type(layer) == Linear:\n",
    "            print(\"Bias: \", layer.B)\n",
    "            print(\"Weight: \", layer.W)\n",
    "\n",
    "def mutate_weights(self):\n",
    "    for layer in self.layers:\n",
    "        if type(layer) == Linear:\n",
    "            layer.W == np.random.normal(0,1, size=layer.W.size)\n",
    "            layer.B == np.random.normal(0,1,size=layer.B.size)\n",
    "\n",
    "\n",
    "NeuralNetwork.mutate_weights = mutate_weights\n",
    "NeuralNetwork.print_weights = print_weights"
   ]
  },
  {
   "cell_type": "code",
   "execution_count": 264,
   "metadata": {},
   "outputs": [
    {
     "name": "stdout",
     "output_type": "stream",
     "text": [
      "Bias:  [[0. 0. 0. 0. 0. 0. 0. 0.]]\n",
      "Weight:  [[-0.56665639  0.4799043   0.18144716  0.94932504 -0.45299388  0.8271851\n",
      "  -0.2454456   0.70485382]\n",
      " [-0.53398728 -0.37805118 -0.42089356  0.6250212   0.63975699 -0.17919235\n",
      "  -0.56074599 -0.70890409]]\n",
      "Bias:  [[0.]]\n",
      "Weight:  [[-0.28054597]\n",
      " [-0.15696125]\n",
      " [ 0.98110748]\n",
      " [ 0.00218825]\n",
      " [ 0.87014019]\n",
      " [ 0.23011515]\n",
      " [ 0.35283197]\n",
      " [ 0.71005892]]\n",
      "Bias:  [[0. 0. 0. 0. 0. 0. 0. 0.]]\n",
      "Weight:  [[-0.56665639  0.4799043   0.18144716  0.94932504 -0.45299388  0.8271851\n",
      "  -0.2454456   0.70485382]\n",
      " [-0.53398728 -0.37805118 -0.42089356  0.6250212   0.63975699 -0.17919235\n",
      "  -0.56074599 -0.70890409]]\n",
      "Bias:  [[0.]]\n",
      "Weight:  [[-0.28054597]\n",
      " [-0.15696125]\n",
      " [ 0.98110748]\n",
      " [ 0.00218825]\n",
      " [ 0.87014019]\n",
      " [ 0.23011515]\n",
      " [ 0.35283197]\n",
      " [ 0.71005892]]\n"
     ]
    },
    {
     "name": "stderr",
     "output_type": "stream",
     "text": [
      "/var/folders/fv/c34g947d7399z59488dvfyth0000gn/T/ipykernel_37122/1951010585.py:10: DeprecationWarning: elementwise comparison failed; this will raise an error in the future.\n",
      "  layer.W == np.random.normal(0,1, size=layer.W.size)\n"
     ]
    }
   ],
   "source": [
    "net.print_weights()\n",
    "net.mutate_weights()\n",
    "net.print_weights()"
   ]
  },
  {
   "cell_type": "markdown",
   "metadata": {},
   "source": [
    "### Aufgabe 2"
   ]
  },
  {
   "cell_type": "code",
   "execution_count": 265,
   "metadata": {},
   "outputs": [],
   "source": [
    "batch = np.array([[0.0, 0.0], [0.0, 1.0], [1.0, 0.0], [1.0, 1.0]])\n",
    "labels = np.array([[0.0], [1.0], [1.0], [0.0]]) "
   ]
  },
  {
   "cell_type": "code",
   "execution_count": 266,
   "metadata": {},
   "outputs": [],
   "source": [
    "def fitness(net: NeuralNetwork):\n",
    "    y_hat = net.forward_pass(batch)\n",
    "    accuracy = np.mean(1 - np.abs(labels - y_hat))\n",
    "    print(y_hat, accuracy)\n",
    "    return accuracy"
   ]
  },
  {
   "cell_type": "code",
   "execution_count": 267,
   "metadata": {},
   "outputs": [],
   "source": [
    "def elitist_selection(individuals: list[NeuralNetwork], n):\n",
    "    f = np.zeros(shape=(len(individuals,)))\n",
    "    for i, net in enumerate(individuals):\n",
    "        f[i]= (fitness(net))\n",
    "    return [individuals[i] for i in (f).argsort()[:n]]"
   ]
  },
  {
   "cell_type": "code",
   "execution_count": 268,
   "metadata": {},
   "outputs": [],
   "source": [
    "popsize = 3\n",
    "elite = 2\n",
    "individuals = [NeuralNetwork([Linear(2,8), ReLU(), Linear(8,1), Sigmoid()]) for _ in range(popsize)]"
   ]
  },
  {
   "cell_type": "code",
   "execution_count": 269,
   "metadata": {},
   "outputs": [
    {
     "name": "stdout",
     "output_type": "stream",
     "text": [
      "[[0.5       ]\n",
      " [0.28473447]\n",
      " [0.62051682]\n",
      " [0.32623979]] 0.519752878319651\n",
      "[[0.5       ]\n",
      " [0.42765289]\n",
      " [0.42932804]\n",
      " [0.35685615]] 0.5000311950041004\n",
      "[[0.5       ]\n",
      " [0.5465229 ]\n",
      " [0.43959536]\n",
      " [0.44557407]] 0.5101360469701758\n",
      "[[0.5       ]\n",
      " [0.42765289]\n",
      " [0.42932804]\n",
      " [0.35685615]] 0.5000311950041004\n",
      "0.5000311950041004\n",
      "[[0.5       ]\n",
      " [0.5465229 ]\n",
      " [0.43959536]\n",
      " [0.44557407]] 0.5101360469701758\n",
      "0.5101360469701758\n"
     ]
    }
   ],
   "source": [
    "x = elitist_selection(individuals, elite)  \n",
    "for net in x:\n",
    "    print(fitness(net))"
   ]
  },
  {
   "cell_type": "code",
   "execution_count": null,
   "metadata": {},
   "outputs": [],
   "source": []
  }
 ],
 "metadata": {
  "kernelspec": {
   "display_name": "Python 3",
   "language": "python",
   "name": "python3"
  },
  "language_info": {
   "codemirror_mode": {
    "name": "ipython",
    "version": 3
   },
   "file_extension": ".py",
   "mimetype": "text/x-python",
   "name": "python",
   "nbconvert_exporter": "python",
   "pygments_lexer": "ipython3",
   "version": "3.10.2"
  }
 },
 "nbformat": 4,
 "nbformat_minor": 2
}
